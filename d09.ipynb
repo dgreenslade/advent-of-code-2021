{
 "cells": [
  {
   "cell_type": "markdown",
   "metadata": {},
   "source": [
    "### --- Day 9: Smoke Basin ---\n",
    "These caves seem to be lava tubes. Parts are even still volcanically active; small hydrothermal vents release smoke into the caves that slowly settles like rain.\n",
    "\n",
    "If you can model how the smoke flows through the caves, you might be able to avoid it and be that much safer. The submarine generates a heightmap of the floor of the nearby caves for you (your puzzle input).\n",
    "\n",
    "Smoke flows to the lowest point of the area it's in. For example, consider the following heightmap:\n",
    "\n",
    "    2199943210\n",
    "    3987894921\n",
    "    9856789892\n",
    "    8767896789\n",
    "    9899965678\n",
    "Each number corresponds to the height of a particular location, where 9 is the highest and 0 is the lowest a location can be.\n",
    "\n",
    "Your first goal is to find the low points - the locations that are lower than any of its adjacent locations. Most locations have four adjacent locations (up, down, left, and right); locations on the edge or corner of the map have three or two adjacent locations, respectively. (Diagonal locations do not count as adjacent.)\n",
    "\n",
    "In the above example, there are four low points, all highlighted: two are in the first row (a 1 and a 0), one is in the third row (a 5), and one is in the bottom row (also a 5). All other locations on the heightmap have some lower adjacent location, and so are not low points.\n",
    "\n",
    "The risk level of a low point is 1 plus its height. In the above example, the risk levels of the low points are 2, 1, 6, and 6. The sum of the risk levels of all low points in the heightmap is therefore 15.\n",
    "\n",
    "Find all of the low points on your heightmap. What is the sum of the risk levels of all low points on your heightmap?\n",
    "\n",
    "### --- Part Two ---\n",
    "Next, you need to find the largest basins so you know what areas are most important to avoid.\n",
    "\n",
    "A basin is all locations that eventually flow downward to a single low point. Therefore, every low point has a basin, although some basins are very small. Locations of height 9 do not count as being in any basin, and all other locations will always be part of exactly one basin.\n",
    "\n",
    "The size of a basin is the number of locations within the basin, including the low point. The example above has four basins.\n",
    "\n",
    "The top-left basin, size 3:\n",
    "\n",
    "    2199943210\n",
    "    3987894921\n",
    "    9856789892\n",
    "    8767896789\n",
    "    9899965678\n",
    "The top-right basin, size 9:\n",
    "\n",
    "    2199943210\n",
    "    3987894921\n",
    "    9856789892\n",
    "    8767896789\n",
    "    9899965678\n",
    "The middle basin, size 14:\n",
    "\n",
    "    2199943210\n",
    "    3987894921\n",
    "    9856789892\n",
    "    8767896789\n",
    "    9899965678\n",
    "The bottom-right basin, size 9:\n",
    "\n",
    "    2199943210\n",
    "    3987894921\n",
    "    9856789892\n",
    "    8767896789\n",
    "    9899965678\n",
    "Find the three largest basins and multiply their sizes together. In the above example, this is 9 * 14 * 9 = 1134.\n",
    "\n",
    "What do you get if you multiply together the sizes of the three largest basins?"
   ]
  },
  {
   "cell_type": "code",
   "execution_count": 51,
   "metadata": {},
   "outputs": [
    {
     "name": "stdout",
     "output_type": "stream",
     "text": [
      "The risk values are 15\n"
     ]
    }
   ],
   "source": [
    "import numpy as np\n",
    "\n",
    "\n",
    "def seafloor_input(file:str) -> np.array:\n",
    "    \"\"\"Build array of integers from single column text file. Must split on every integer.  Load through numpy\"\"\"\n",
    "    with open(file, 'r') as f:\n",
    "        depths = np.genfromtxt(f, dtype=np.int16, delimiter=1)\n",
    "    return depths\n",
    "\n",
    "\n",
    "def local_minima(seafloor:np.array) -> np.array:\n",
    "    \"\"\" \n",
    "    Iterate throughout the array.  \n",
    "    Then compare each element against it's adjacent elements. \n",
    "    Return only those values which are a local minumum.\n",
    "    NOTE: have to be careful not to go out the bounds of the array.\n",
    "    \"\"\"\n",
    "    minima_vals = []\n",
    "    for (row,col), x in np.ndenumerate(seafloor):\n",
    "        \n",
    "        # Assign max value as current min\n",
    "        minimum = 9\n",
    "        \n",
    "        # Check to make sure index not out of bounds, then compare to current min\n",
    "        if row < (seafloor.shape[0] - 1):\n",
    "            minimum = min(minimum, seafloor[row+1,col])\n",
    "        if col < (seafloor.shape[1] - 1):\n",
    "            minimum = min(minimum, seafloor[row,col+1])\n",
    "        if row > 0:\n",
    "            minimum = min(minimum, seafloor[row-1,col])\n",
    "        if col > 0:\n",
    "            minimum = min(minimum, seafloor[row,col-1])\n",
    "            \n",
    "        # Compare present value with minumum of neighbours\n",
    "        if x < minimum:\n",
    "            minima_vals.append(x)\n",
    "            \n",
    "    return minima_vals\n",
    "\n",
    "def find_basin_size(seafloor:np.array):\n",
    "    \"\"\"\n",
    "    Basin is defined by having walls of 9 (maximum).\n",
    "    \"\"\""
   ]
  },
  {
   "cell_type": "code",
   "execution_count": 53,
   "metadata": {},
   "outputs": [
    {
     "name": "stdout",
     "output_type": "stream",
     "text": [
      "The risk value is 541\n"
     ]
    }
   ],
   "source": [
    "# Workflow Pt 1\n",
    "\n",
    "# Input\n",
    "seafloor = seafloor_input('data/d09_seafloor.txt')    \n",
    "\n",
    "# Local minimum and risk (each minimum + 1)\n",
    "minima = local_minima(seafloor)\n",
    "risk = sum(minima, len(minima))\n",
    "\n",
    "print(f'The risk value is {risk}')"
   ]
  },
  {
   "cell_type": "code",
   "execution_count": 59,
   "metadata": {},
   "outputs": [],
   "source": [
    "from skimage.segmentation import flood, flood_fill\n",
    "\n",
    "# Create empty array to mark if already checked \n",
    "flooded = np.zeros(shape=(seafloor.shape))\n",
    "# Dict of unique basins - use first seed as key\n",
    "basins = {}\n",
    "\n",
    "def floodfill(seafloor, flooded, x, y, original_seed=None):\n",
    "    # Already checked? pass if so\n",
    "    if flooded[x][y] == 1: \n",
    "        break\n",
    "    # \n",
    "    if matrix[x][y] == \"a\":  \n",
    "        # Up counter on basin size (NEED TO CHECK KEY EXISTS)\n",
    "        if (x,y) in basins:\n",
    "            basins[(x,y)] += 1\n",
    "        else:\n",
    "            basins[(x,y)] = 1\n",
    "        matrix[x][y] = \"c\" \n",
    "        #recursively invoke flood fill on all surrounding cells:\n",
    "        if x > 0:\n",
    "            floodfill(matrix,x-1,y, original_seed=(x,y))\n",
    "        if x < len(matrix[y]) - 1:\n",
    "            floodfill(matrix,x+1,y, original_seed=(x,y))\n",
    "        if y > 0:\n",
    "            floodfill(matrix,x,y-1, original_seed=(x,y))\n",
    "        if y < len(matrix) - 1:\n",
    "            floodfill(matrix,x,y+1, original_seed=(x,y))\n",
    "    \n",
    "            \n",
    "def"
   ]
  },
  {
   "cell_type": "code",
   "execution_count": 61,
   "metadata": {},
   "outputs": [
    {
     "data": {
      "text/plain": [
       "(100, 100)"
      ]
     },
     "execution_count": 61,
     "metadata": {},
     "output_type": "execute_result"
    }
   ],
   "source": [
    "test = "
   ]
  },
  {
   "cell_type": "code",
   "execution_count": 89,
   "metadata": {},
   "outputs": [
    {
     "ename": "SyntaxError",
     "evalue": "invalid syntax (<ipython-input-89-853f50f7de11>, line 3)",
     "output_type": "error",
     "traceback": [
      "\u001b[1;36m  File \u001b[1;32m\"<ipython-input-89-853f50f7de11>\"\u001b[1;36m, line \u001b[1;32m3\u001b[0m\n\u001b[1;33m    d[(1,2)] +=1 if (1,2) in d else d[(1,2)] = 1\u001b[0m\n\u001b[1;37m                                             ^\u001b[0m\n\u001b[1;31mSyntaxError\u001b[0m\u001b[1;31m:\u001b[0m invalid syntax\n"
     ]
    }
   ],
   "source": [
    "d = {}\n",
    "d[(1,2)] = 1\n",
    "d[(1,2)] +=1 if (1,2) in d else d[(1,2)] = 1"
   ]
  },
  {
   "cell_type": "code",
   "execution_count": 85,
   "metadata": {},
   "outputs": [
    {
     "data": {
      "text/plain": [
       "True"
      ]
     },
     "execution_count": 85,
     "metadata": {},
     "output_type": "execute_result"
    }
   ],
   "source": [
    "(1,2) in d"
   ]
  },
  {
   "cell_type": "code",
   "execution_count": 77,
   "metadata": {},
   "outputs": [
    {
     "data": {
      "text/plain": [
       "1"
      ]
     },
     "execution_count": 77,
     "metadata": {},
     "output_type": "execute_result"
    }
   ],
   "source": [
    "d[(1,2)] "
   ]
  },
  {
   "cell_type": "code",
   "execution_count": null,
   "metadata": {},
   "outputs": [],
   "source": []
  }
 ],
 "metadata": {
  "kernelspec": {
   "display_name": "Python 3",
   "language": "python",
   "name": "python3"
  },
  "language_info": {
   "codemirror_mode": {
    "name": "ipython",
    "version": 3
   },
   "file_extension": ".py",
   "mimetype": "text/x-python",
   "name": "python",
   "nbconvert_exporter": "python",
   "pygments_lexer": "ipython3",
   "version": "3.8.5"
  }
 },
 "nbformat": 4,
 "nbformat_minor": 4
}
