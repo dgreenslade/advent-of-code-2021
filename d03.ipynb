{
 "cells": [
  {
   "cell_type": "markdown",
   "metadata": {},
   "source": [
    "# Advent of Code: Day 3"
   ]
  },
  {
   "cell_type": "markdown",
   "metadata": {},
   "source": [
    "--- Day 3: Binary Diagnostic ---\n",
    "The submarine has been making some odd creaking noises, so you ask it to produce a diagnostic report just in case.\n",
    "\n",
    "The diagnostic report (your puzzle input) consists of a list of binary numbers which, when decoded properly, can tell you many useful things about the conditions of the submarine. The first parameter to check is the power consumption.\n",
    "\n",
    "You need to use the binary numbers in the diagnostic report to generate two new binary numbers (called the gamma rate and the epsilon rate). The power consumption can then be found by multiplying the gamma rate by the epsilon rate.\n",
    "\n",
    "Each bit in the gamma rate can be determined by finding the most common bit in the corresponding position of all numbers in the diagnostic report. For example, given the following diagnostic report:\n",
    "\n",
    "00100\n",
    "11110\n",
    "10110\n",
    "10111\n",
    "10101\n",
    "01111\n",
    "00111\n",
    "11100\n",
    "10000\n",
    "11001\n",
    "00010\n",
    "01010\n",
    "Considering only the first bit of each number, there are five 0 bits and seven 1 bits. Since the most common bit is 1, the first bit of the gamma rate is 1.\n",
    "\n",
    "The most common second bit of the numbers in the diagnostic report is 0, so the second bit of the gamma rate is 0.\n",
    "\n",
    "The most common value of the third, fourth, and fifth bits are 1, 1, and 0, respectively, and so the final three bits of the gamma rate are 110.\n",
    "\n",
    "So, the gamma rate is the binary number 10110, or 22 in decimal.\n",
    "\n",
    "The epsilon rate is calculated in a similar way; rather than use the most common bit, the least common bit from each position is used. So, the epsilon rate is 01001, or 9 in decimal. Multiplying the gamma rate (22) by the epsilon rate (9) produces the power consumption, 198.\n",
    "\n",
    "Use the binary numbers in your diagnostic report to calculate the gamma rate and epsilon rate, then multiply them together. What is the power consumption of the submarine? (Be sure to represent your answer in decimal, not binary.)\n",
    "\n",
    "\n",
    "--- Part Two ---\n",
    "Next, you should verify the life support rating, which can be determined by multiplying the oxygen generator rating by the CO2 scrubber rating.\n",
    "\n",
    "Both the oxygen generator rating and the CO2 scrubber rating are values that can be found in your diagnostic report - finding them is the tricky part. Both values are located using a similar process that involves filtering out values until only one remains. Before searching for either rating value, start with the full list of binary numbers from your diagnostic report and consider just the first bit of those numbers. Then:\n",
    "\n",
    "Keep only numbers selected by the bit criteria for the type of rating value for which you are searching. Discard numbers which do not match the bit criteria.\n",
    "If you only have one number left, stop; this is the rating value for which you are searching.\n",
    "Otherwise, repeat the process, considering the next bit to the right.\n",
    "The bit criteria depends on which type of rating value you want to find:\n",
    "\n",
    "To find oxygen generator rating, determine the most common value (0 or 1) in the current bit position, and keep only numbers with that bit in that position. If 0 and 1 are equally common, keep values with a 1 in the position being considered.\n",
    "To find CO2 scrubber rating, determine the least common value (0 or 1) in the current bit position, and keep only numbers with that bit in that position. If 0 and 1 are equally common, keep values with a 0 in the position being considered.\n",
    "For example, to determine the oxygen generator rating value using the same example diagnostic report from above:\n",
    "\n",
    "Start with all 12 numbers and consider only the first bit of each number. There are more 1 bits (7) than 0 bits (5), so keep only the 7 numbers with a 1 in the first position: 11110, 10110, 10111, 10101, 11100, 10000, and 11001.\n",
    "Then, consider the second bit of the 7 remaining numbers: there are more 0 bits (4) than 1 bits (3), so keep only the 4 numbers with a 0 in the second position: 10110, 10111, 10101, and 10000.\n",
    "In the third position, three of the four numbers have a 1, so keep those three: 10110, 10111, and 10101.\n",
    "In the fourth position, two of the three numbers have a 1, so keep those two: 10110 and 10111.\n",
    "In the fifth position, there are an equal number of 0 bits and 1 bits (one each). So, to find the oxygen generator rating, keep the number with a 1 in that position: 10111.\n",
    "As there is only one number left, stop; the oxygen generator rating is 10111, or 23 in decimal.\n",
    "Then, to determine the CO2 scrubber rating value from the same example above:\n",
    "\n",
    "Start again with all 12 numbers and consider only the first bit of each number. There are fewer 0 bits (5) than 1 bits (7), so keep only the 5 numbers with a 0 in the first position: 00100, 01111, 00111, 00010, and 01010.\n",
    "Then, consider the second bit of the 5 remaining numbers: there are fewer 1 bits (2) than 0 bits (3), so keep only the 2 numbers with a 1 in the second position: 01111 and 01010.\n",
    "In the third position, there are an equal number of 0 bits and 1 bits (one each). So, to find the CO2 scrubber rating, keep the number with a 0 in that position: 01010.\n",
    "As there is only one number left, stop; the CO2 scrubber rating is 01010, or 10 in decimal.\n",
    "Finally, to find the life support rating, multiply the oxygen generator rating (23) by the CO2 scrubber rating (10) to get 230.\n",
    "\n",
    "Use the binary numbers in your diagnostic report to calculate the oxygen generator rating and CO2 scrubber rating, then multiply them together. What is the life support rating of the submarine? (Be sure to represent your answer in decimal, not binary.)"
   ]
  },
  {
   "cell_type": "code",
   "execution_count": 273,
   "metadata": {},
   "outputs": [],
   "source": [
    "import numpy as np\n",
    "        \n",
    "def np_input(input_file:str) -> np.array: \n",
    "    \"\"\"Build array of integers from single column text file. Must split on every integer.  Load through numpy\"\"\"\n",
    "    with open(input_file, 'r') as file:\n",
    "        depths = np.genfromtxt(file, dtype=np.int16, delimiter=1)\n",
    "    return depths\n",
    "\n",
    "def binary_str2int(binary:str) -> int:\n",
    "    return int(binary, 2)\n",
    "\n",
    "def binary_list2str(binary:list) -> str:\n",
    "    return ''.join(map(str,binary))\n",
    "\n",
    "def np_sub_report(binary:np.array):\n",
    "    num_lines = binary.shape[0]\n",
    "    summed_digits = binary.sum(axis=0).tolist()\n",
    "    # Convert summed integers to the most common\n",
    "    most_common = [int(i > num_lines/2) for i in summed_digits]\n",
    "    least_common = [int(i < num_lines/2) for i in summed_digits]\n",
    "    # Convert to strings\n",
    "    gamma = binary_list2str(most_common)\n",
    "    epsilon = binary_list2str(least_common)\n",
    "    # Output as ints\n",
    "    return binary_str2int(gamma), binary_str2int(epsilon)\n",
    "\n",
    "def lifesupport_report(binary:np.array, mode='oxygen'):\n",
    "    for i in range(binary.shape[1]):\n",
    "        most_common = np.ceil(np.median(binary, axis=0)).astype(np.int8)[i]\n",
    "        least_common = 1 - most_common\n",
    "        if mode == 'oxygen':\n",
    "            binary = binary[binary[:,i] == most_common]\n",
    "        elif mode == 'co2':\n",
    "            least_filter = binary[binary[:,i] == least_common]\n",
    "            binary = least_filter if least_filter.shape[0] != 0 else binary\n",
    "        else:\n",
    "            raise ValueException('Mode input should be either \"co2\" or \"oxygen\"')\n",
    "        out = binary_list2str(binary[0].tolist())\n",
    "    return binary_str2int(out)"
   ]
  },
  {
   "cell_type": "code",
   "execution_count": 274,
   "metadata": {
    "scrolled": true
   },
   "outputs": [
    {
     "name": "stdout",
     "output_type": "stream",
     "text": [
      "Gamma = 1143 and Epsilon = 2952\n",
      "Power consumption = 3374136\n"
     ]
    }
   ],
   "source": [
    "# Part 1 Workflow\n",
    "\n",
    "binary = np_input('data/d03_binary_report.txt')\n",
    "\n",
    "epsilon, gamma = np_sub_report(binary)\n",
    "power_consumption = epsilon * gamma\n",
    "\n",
    "print(f'Gamma = {sub_report[0]} and Epsilon = {sub_report[1]}')\n",
    "print(f'Power consumption = {power}')"
   ]
  },
  {
   "cell_type": "code",
   "execution_count": 275,
   "metadata": {},
   "outputs": [
    {
     "name": "stdout",
     "output_type": "stream",
     "text": [
      "The oxygen report = 1909,  the co2 report = 2322\n",
      "The mulitplied answer = 4432698\n"
     ]
    }
   ],
   "source": [
    "# Part 2 Workflow\n",
    "\n",
    "binary = np_input('data/d03_binary_report.txt')\n",
    "\n",
    "oxygen = lifesupport_report(binary, mode='oxygen')\n",
    "co2 = lifesupport_report(binary, mode='co2')\n",
    "life_support_rating = oxygen * co2\n",
    "\n",
    "print(f'The oxygen report = {oxygen},  the co2 report = {co2}')\n",
    "print(f'The mulitplied answer = {life_support_rating}')"
   ]
  }
 ],
 "metadata": {
  "kernelspec": {
   "display_name": "Python 3",
   "language": "python",
   "name": "python3"
  },
  "language_info": {
   "codemirror_mode": {
    "name": "ipython",
    "version": 3
   },
   "file_extension": ".py",
   "mimetype": "text/x-python",
   "name": "python",
   "nbconvert_exporter": "python",
   "pygments_lexer": "ipython3",
   "version": "3.8.5"
  }
 },
 "nbformat": 4,
 "nbformat_minor": 4
}
