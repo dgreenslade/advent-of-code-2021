{
 "cells": [
  {
   "cell_type": "code",
   "execution_count": 102,
   "metadata": {},
   "outputs": [],
   "source": [
    "import numpy as np\n",
    "        \n",
    "def np_input(input_file:str) -> np.array: \n",
    "    \"\"\"Build array of integers from single column text file. Must split on every integer.  Load through numpy\"\"\"\n",
    "    with open(input_file, 'r') as file:\n",
    "        depths = np.genfromtxt(file, dtype=np.int16, delimiter=1)\n",
    "    return depths\n",
    "\n",
    "def binary_str2int(binary:str) -> int:\n",
    "    return int(binary, 2)\n",
    "\n",
    "def np_sub_report(binary:np.array):\n",
    "    num_lines = binary.shape[0]\n",
    "    summed_digits = binary.sum(axis=0).tolist()\n",
    "    # Convert summed integers to the most common\n",
    "    most_common = [int(i > num_lines/2) for i in summed_digits]\n",
    "    least_common = [int(i < num_lines/2) for i in summed_digits]\n",
    "    # Convert to strings\n",
    "    gamma = ''.join(map(str,most_common))\n",
    "    epsilon = ''.join(map(str,least_common))\n",
    "    # Output as ints\n",
    "    return binary_str2int(gamma), binary_str2int(epsilon)\n"
   ]
  },
  {
   "cell_type": "code",
   "execution_count": 104,
   "metadata": {},
   "outputs": [
    {
     "name": "stdout",
     "output_type": "stream",
     "text": [
      "Gamma = 1143 and Epsilon = 2952\n",
      "Power consumption = 3374136\n"
     ]
    }
   ],
   "source": [
    "# Workflow\n",
    "\n",
    "binary = np_input('data/d03_binary_report.txt')\n",
    "\n",
    "epsilon, gamma = np_sub_report(binary)\n",
    "power_consumption = epsilon * gamma\n",
    "\n",
    "print(f'Gamma = {sub_report[0]} and Epsilon = {sub_report[1]}')\n",
    "print(f'Power consumption = {power}')\n",
    "    "
   ]
  },
  {
   "cell_type": "code",
   "execution_count": null,
   "metadata": {},
   "outputs": [],
   "source": []
  }
 ],
 "metadata": {
  "kernelspec": {
   "display_name": "Python 3",
   "language": "python",
   "name": "python3"
  },
  "language_info": {
   "codemirror_mode": {
    "name": "ipython",
    "version": 3
   },
   "file_extension": ".py",
   "mimetype": "text/x-python",
   "name": "python",
   "nbconvert_exporter": "python",
   "pygments_lexer": "ipython3",
   "version": "3.8.5"
  }
 },
 "nbformat": 4,
 "nbformat_minor": 4
}
