{
 "cells": [
  {
   "cell_type": "code",
   "execution_count": 25,
   "id": "0a7e9477-0812-4c2d-8cc8-ec2726adc43b",
   "metadata": {},
   "outputs": [],
   "source": [
    "import numpy as np\n",
    "from math import sin, cos, radians\n",
    "\n",
    "def rotate_flip(coords:np.array, axis:str, angle:int) -> np.array:\n",
    "    \"\"\"\n",
    "    Use standard rotation matrices to rotate three-dimensional coordinates \n",
    "    around an axis by specified angle\n",
    "    \"\"\"\n",
    "    angle=radians(angle)\n",
    "    if axis == 'x':\n",
    "        rot = np.array([\n",
    "            [1, 0, 0],\n",
    "            [0, round(cos(angle),0), -round(sin(angle),0)],\n",
    "            [0, round(sin(angle),0), round(cos(angle),0)]\n",
    "        ])\n",
    "    elif axis == 'y':\n",
    "        rot = np.array([\n",
    "            [round(cos(angle),0), 0, round(sin(angle),0)],\n",
    "            [0, 1, 0],\n",
    "            [-round(sin(angle),0), 0, round(cos(angle),0)]\n",
    "        ])\n",
    "    elif axis == 'z':\n",
    "        rot = np.array([\n",
    "            [round(cos(angle),0), -round(sin(angle),0),0],\n",
    "            [round(sin(angle),0), round(cos(angle),0),0],\n",
    "            [0, 0, 1]\n",
    "        ])\n",
    "    else:\n",
    "        raise ValueError('Axis should be one of: \"x\", \"y\", \"z\"')\n",
    "    \n",
    "    # Matrix multiplaction\n",
    "    return np.matmul(rot, coords).astype('int')"
   ]
  },
  {
   "cell_type": "code",
   "execution_count": 39,
   "id": "dd177299-ce10-4e2d-b2b1-2bf8dee83393",
   "metadata": {},
   "outputs": [],
   "source": [
    "def all_orients(coords:np.array) -> list:\n",
    "    \"\"\"\n",
    "    Take a input set of coordinates (3-dimensional) and rotate these into \n",
    "    each of 24 possible orientations assuming 90 degree rotations along axes.\n",
    "    \"\"\"\n",
    "    all_poss = []\n",
    "    # Each angle along x & y axes. Double rotate (includes 0 degree so also single rotations)\n",
    "    for x_angle in (0, 90,180,270):\n",
    "        for y_angle in (0, 90,180,270):\n",
    "            print(x_angle, y_angle)\n",
    "            all_poss.append(rotate(rotate(coords, 'x', x_angle), 'y', y_angle))\n",
    "        # For z axis only look at two rotations as others covered by origin position and x & y double rotations\n",
    "        for z_angle in (90, 270):\n",
    "            all_poss.append(rotate(rotate(coords, 'x', x_angle), 'z', z_angle))\n",
    "            print(x_angle, z_angle)\n",
    "    return all_poss\n",
    "            "
   ]
  },
  {
   "cell_type": "code",
   "execution_count": 36,
   "id": "36cec3aa-afed-4639-8b7c-b82ef73ec4e2",
   "metadata": {},
   "outputs": [
    {
     "data": {
      "text/plain": [
       "array([15, 10, -5])"
      ]
     },
     "execution_count": 36,
     "metadata": {},
     "output_type": "execute_result"
    }
   ],
   "source": [
    "test = np.array([5,10,15])\n",
    "\n",
    "rotate(test, 'y', 90)"
   ]
  },
  {
   "cell_type": "code",
   "execution_count": 41,
   "id": "3ddba818-4351-41f8-b64a-9c53fb35e521",
   "metadata": {},
   "outputs": [
    {
     "name": "stdout",
     "output_type": "stream",
     "text": [
      "0 0\n",
      "0 90\n",
      "0 180\n",
      "0 270\n",
      "0 90\n",
      "0 270\n",
      "90 0\n",
      "90 90\n",
      "90 180\n",
      "90 270\n",
      "90 90\n",
      "90 270\n",
      "180 0\n",
      "180 90\n",
      "180 180\n",
      "180 270\n",
      "180 90\n",
      "180 270\n",
      "270 0\n",
      "270 90\n",
      "270 180\n",
      "270 270\n",
      "270 90\n",
      "270 270\n"
     ]
    },
    {
     "data": {
      "text/plain": [
       "24"
      ]
     },
     "execution_count": 41,
     "metadata": {},
     "output_type": "execute_result"
    }
   ],
   "source": [
    "len(all_orients(test))"
   ]
  },
  {
   "cell_type": "code",
   "execution_count": null,
   "id": "7b23fb3b-c294-46e1-96cf-056c60636901",
   "metadata": {},
   "outputs": [],
   "source": []
  }
 ],
 "metadata": {
  "kernelspec": {
   "display_name": "Python 3",
   "language": "python",
   "name": "python3"
  },
  "language_info": {
   "codemirror_mode": {
    "name": "ipython",
    "version": 3
   },
   "file_extension": ".py",
   "mimetype": "text/x-python",
   "name": "python",
   "nbconvert_exporter": "python",
   "pygments_lexer": "ipython3",
   "version": "3.7.11"
  }
 },
 "nbformat": 4,
 "nbformat_minor": 5
}
