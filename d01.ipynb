{
 "cells": [
  {
   "cell_type": "code",
   "execution_count": 464,
   "metadata": {},
   "outputs": [],
   "source": [
    "import requests \n",
    "\n",
    "# # This doesn't work as need to include GitHub authentication for AdventOfCode site\n",
    "# sonar_url = 'https://adventofcode.com/2021/day/1/input'\n",
    "# depths = requests.get(sonar_url).text"
   ]
  },
  {
   "cell_type": "markdown",
   "metadata": {},
   "source": [
    "# Using text file and looping through a list"
   ]
  },
  {
   "cell_type": "code",
   "execution_count": 168,
   "metadata": {},
   "outputs": [],
   "source": [
    "def depth_input(input_file:str):\n",
    "    \"\"\"Build array from single column text file. Convert to integers\"\"\"\n",
    "    depths = []\n",
    "    \n",
    "    with open(input_file, 'r') as file:\n",
    "        for line in file:\n",
    "            try:\n",
    "                depths.append(int(line.strip()))\n",
    "            except ValueError as e: \n",
    "                    pass\n",
    "                \n",
    "    return depths"
   ]
  },
  {
   "cell_type": "code",
   "execution_count": 461,
   "metadata": {},
   "outputs": [],
   "source": [
    "def count_increases(depths:list) -> int:\n",
    "    \"\"\"Returns the number of increases between elements in a list \"\"\"\n",
    "    increase = 0\n",
    "    for i in range(len(depths)):\n",
    "        if i == 0:\n",
    "            pass\n",
    "        elif depths[i] > depths[i-1]:\n",
    "            increase += 1\n",
    "    return increase\n",
    "\n",
    "\n",
    "def count_window_increases(depths:list, window:int) -> int:\n",
    "    \"\"\" Reads the number of increases between rolling window \n",
    "    \"\"\"\n",
    "    increase = 0\n",
    "    # skipping first two elements as can't form full 3 element windows - using subraction on index\n",
    "    for i in range(window, (len(depths))):\n",
    "        current_window = sum(depths[i-window:i])\n",
    "        next_window = sum(depths[i-window+1:i+1])\n",
    "        if current_window < next_window:\n",
    "            increase += 1\n",
    "    return increase"
   ]
  },
  {
   "cell_type": "code",
   "execution_count": null,
   "metadata": {},
   "outputs": [],
   "source": []
  },
  {
   "cell_type": "code",
   "execution_count": 465,
   "metadata": {},
   "outputs": [
    {
     "name": "stdout",
     "output_type": "stream",
     "text": [
      "Number of increases between readings: 1482\n",
      "Number of increases between rolling windows: 1518\n"
     ]
    }
   ],
   "source": [
    "depths = depth_input('data/sonar_depths.txt')\n",
    "increases = count_increases(depths)\n",
    "window_increases = count_window_increases(depths,3)\n",
    "\n",
    "print(f'Number of increases between readings: {increases}')\n",
    "print(f'Number of increases between rolling windows: {window_increases}')"
   ]
  },
  {
   "cell_type": "markdown",
   "metadata": {},
   "source": [
    "## Using NumPy rather than list and loops"
   ]
  },
  {
   "cell_type": "code",
   "execution_count": 466,
   "metadata": {},
   "outputs": [],
   "source": [
    "import numpy as np\n",
    "\n",
    "def np_input(input_file:str) -> np.array: \n",
    "    \"\"\"Build array of integers from single column text file. Load through numpy\"\"\"\n",
    "    with open(input_file, 'r') as file:\n",
    "        depths = np.loadtxt(file, dtype=np.int16)\n",
    "    return depths\n",
    "\n",
    "\n",
    "def np_change(depths:np.array) -> np.array:\n",
    "    \"\"\"\n",
    "    Returns the difference between an element and the following in an array.  Length is one less than input \n",
    "    \"\"\"\n",
    "    change = depths[1:] - depths[:-1]\n",
    "    return change"
   ]
  },
  {
   "cell_type": "code",
   "execution_count": 467,
   "metadata": {},
   "outputs": [],
   "source": [
    "def np_3_window(depths:np.array) -> np.array:\n",
    "    \"\"\"Static window of three elements.\"\"\"\n",
    "    summed_window = depths[:-2] + depths[1:-1] + depths[2:]\n",
    "    return summed_window\n",
    "\n",
    "\n",
    "def np_window(depths:np.array, window:int) -> np.array:\n",
    "    \"\"\"\n",
    "    Returns a sum of all elements using a window size.\n",
    "    Loops through size of window and sums resulting array slices.  \n",
    "    If selecting a window of 1 it will return the original array.\n",
    "    \n",
    "    Note: needs to copy slice otherwise adds to original array\n",
    "    \"\"\"\n",
    "    # First element up to window length\n",
    "    end_idx = (1-window)   if not window == 1 else None\n",
    "    summed_window = np.copy(depths[:end_idx])\n",
    "    # Add each subsequent elements for the window sum\n",
    "    for i in range(1, window):\n",
    "        start_idx = (0 + i)\n",
    "        end_idx =   (1 + i - window)   if not (i - window == -1) else None\n",
    "        summed_window += depths[start_idx:end_idx]\n",
    "    return summed_window"
   ]
  },
  {
   "cell_type": "code",
   "execution_count": 468,
   "metadata": {},
   "outputs": [],
   "source": [
    "def sum_of_increases(array:np.array) -> int:\n",
    "    \"\"\"Returns the number of positive values in an array\"\"\"\n",
    "    return sum(array > 0)"
   ]
  },
  {
   "cell_type": "code",
   "execution_count": 469,
   "metadata": {},
   "outputs": [
    {
     "name": "stdout",
     "output_type": "stream",
     "text": [
      "Number of increases between readings: 1482\n",
      "Number of increases between rolling 3 element windows: 1518\n"
     ]
    }
   ],
   "source": [
    "np_depths = np_input('data/sonar_depths.txt')\n",
    "\n",
    "single_increases = sum_of_increases(np_change(np_depths))\n",
    "\n",
    "window_increases = sum_of_increases(np_change(np_window(np_depths,3)))\n",
    "\n",
    "\n",
    "print(f'Number of increases between readings: {single_increases}')\n",
    "print(f'Number of increases between rolling 3 element windows: {window_increases}')"
   ]
  },
  {
   "cell_type": "code",
   "execution_count": null,
   "metadata": {},
   "outputs": [],
   "source": []
  }
 ],
 "metadata": {
  "kernelspec": {
   "display_name": "Python 3",
   "language": "python",
   "name": "python3"
  },
  "language_info": {
   "codemirror_mode": {
    "name": "ipython",
    "version": 3
   },
   "file_extension": ".py",
   "mimetype": "text/x-python",
   "name": "python",
   "nbconvert_exporter": "python",
   "pygments_lexer": "ipython3",
   "version": "3.8.5"
  }
 },
 "nbformat": 4,
 "nbformat_minor": 4
}
