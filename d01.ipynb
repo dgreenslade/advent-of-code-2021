{
 "cells": [
  {
   "cell_type": "markdown",
   "metadata": {},
   "source": [
    "# Advent of Code: Day 1"
   ]
  },
  {
   "cell_type": "markdown",
   "metadata": {},
   "source": [
    "--- Day 1: Sonar Sweep ---\n",
    "You're minding your own business on a ship at sea when the overboard alarm goes off! You rush to see if you can help. Apparently, one of the Elves tripped and accidentally sent the sleigh keys flying into the ocean!\n",
    "\n",
    "Before you know it, you're inside a submarine the Elves keep ready for situations like this. It's covered in Christmas lights (because of course it is), and it even has an experimental antenna that should be able to track the keys if you can boost its signal strength high enough; there's a little meter that indicates the antenna's signal strength by displaying 0-50 stars.\n",
    "\n",
    "Your instincts tell you that in order to save Christmas, you'll need to get all fifty stars by December 25th.\n",
    "\n",
    "Collect stars by solving puzzles. Two puzzles will be made available on each day in the Advent calendar; the second puzzle is unlocked when you complete the first. Each puzzle grants one star. Good luck!\n",
    "\n",
    "As the submarine drops below the surface of the ocean, it automatically performs a sonar sweep of the nearby sea floor. On a small screen, the sonar sweep report (your puzzle input) appears: each line is a measurement of the sea floor depth as the sweep looks further and further away from the submarine.\n",
    "\n",
    "For example, suppose you had the following report:\n",
    "\n",
    "199\n",
    "200\n",
    "208\n",
    "210\n",
    "200\n",
    "207\n",
    "240\n",
    "269\n",
    "260\n",
    "263\n",
    "This report indicates that, scanning outward from the submarine, the sonar sweep found depths of 199, 200, 208, 210, and so on.\n",
    "\n",
    "The first order of business is to figure out how quickly the depth increases, just so you know what you're dealing with - you never know if the keys will get carried into deeper water by an ocean current or a fish or something.\n",
    "\n",
    "To do this, count the number of times a depth measurement increases from the previous measurement. (There is no measurement before the first measurement.) In the example above, the changes are as follows:\n",
    "\n",
    "199 (N/A - no previous measurement)\n",
    "200 (increased)\n",
    "208 (increased)\n",
    "210 (increased)\n",
    "200 (decreased)\n",
    "207 (increased)\n",
    "240 (increased)\n",
    "269 (increased)\n",
    "260 (decreased)\n",
    "263 (increased)\n",
    "In this example, there are 7 measurements that are larger than the previous measurement.\n",
    "\n",
    "How many measurements are larger than the previous measurement?\n",
    "\n",
    "--- Part Two ---\n",
    "Considering every single measurement isn't as useful as you expected: there's just too much noise in the data.\n",
    "\n",
    "Instead, consider sums of a three-measurement sliding window. Again considering the above example:\n",
    "\n",
    "199  A      \n",
    "200  A B    \n",
    "208  A B C  \n",
    "210    B C D\n",
    "200  E   C D\n",
    "207  E F   D\n",
    "240  E F G  \n",
    "269    F G H\n",
    "260      G H\n",
    "263        H\n",
    "Start by comparing the first and second three-measurement windows. The measurements in the first window are marked A (199, 200, 208); their sum is 199 + 200 + 208 = 607. The second window is marked B (200, 208, 210); its sum is 618. The sum of measurements in the second window is larger than the sum of the first, so this first comparison increased.\n",
    "\n",
    "Your goal now is to count the number of times the sum of measurements in this sliding window increases from the previous sum. So, compare A with B, then compare B with C, then C with D, and so on. Stop when there aren't enough measurements left to create a new three-measurement sum.\n",
    "\n",
    "In the above example, the sum of each three-measurement window is as follows:\n",
    "\n",
    "A: 607 (N/A - no previous sum)\n",
    "B: 618 (increased)\n",
    "C: 618 (no change)\n",
    "D: 617 (decreased)\n",
    "E: 647 (increased)\n",
    "F: 716 (increased)\n",
    "G: 769 (increased)\n",
    "H: 792 (increased)\n",
    "In this example, there are 5 sums that are larger than the previous sum.\n",
    "\n",
    "Consider sums of a three-measurement sliding window. How many sums are larger than the previous sum?"
   ]
  },
  {
   "cell_type": "markdown",
   "metadata": {},
   "source": [
    "### Using text file and looping through a list"
   ]
  },
  {
   "cell_type": "code",
   "execution_count": 5,
   "metadata": {},
   "outputs": [],
   "source": [
    "def depth_input(input_file:str):\n",
    "    \"\"\"Build array from single column text file. Convert to integers\"\"\"\n",
    "    depths = []\n",
    "    \n",
    "    with open(input_file, 'r') as file:\n",
    "        for line in file:\n",
    "            try:\n",
    "                depths.append(int(line.strip()))\n",
    "            except ValueError as e: \n",
    "                    pass\n",
    "                \n",
    "    return depths\n",
    "\n",
    "\n",
    "def count_increases(depths:list) -> int:\n",
    "    \"\"\"Returns the number of increases between elements in a list \"\"\"\n",
    "    increase = 0\n",
    "    for i in range(len(depths)):\n",
    "        if i == 0:\n",
    "            pass\n",
    "        elif depths[i] > depths[i-1]:\n",
    "            increase += 1\n",
    "    return increase\n",
    "\n",
    "\n",
    "def count_window_increases(depths:list, window:int) -> int:\n",
    "    \"\"\" Reads the number of increases between rolling window \n",
    "    \"\"\"\n",
    "    increase = 0\n",
    "    # skipping first two elements as can't form full 3 element windows - using subraction on index\n",
    "    for i in range(window, (len(depths))):\n",
    "        current_window = sum(depths[i-window:i])\n",
    "        next_window = sum(depths[i-window+1:i+1])\n",
    "        if current_window < next_window:\n",
    "            increase += 1\n",
    "    return increase"
   ]
  },
  {
   "cell_type": "code",
   "execution_count": 6,
   "metadata": {},
   "outputs": [
    {
     "name": "stdout",
     "output_type": "stream",
     "text": [
      "Number of increases between readings: 1482\n",
      "Number of increases between rolling windows: 1518\n"
     ]
    }
   ],
   "source": [
    "# Workflow\n",
    "\n",
    "depths = depth_input('data/sonar_depths.txt')\n",
    "increases = count_increases(depths)\n",
    "window_increases = count_window_increases(depths,3)\n",
    "\n",
    "print(f'Number of increases between readings: {increases}')\n",
    "print(f'Number of increases between rolling windows: {window_increases}')"
   ]
  },
  {
   "cell_type": "markdown",
   "metadata": {},
   "source": [
    "### Using NumPy rather than list and loops"
   ]
  },
  {
   "cell_type": "code",
   "execution_count": 2,
   "metadata": {},
   "outputs": [],
   "source": [
    "import numpy as np\n",
    "\n",
    "def np_input(input_file:str) -> np.array: \n",
    "    \"\"\"Build array of integers from single column text file. Load through numpy\"\"\"\n",
    "    with open(input_file, 'r') as file:\n",
    "        depths = np.loadtxt(file, dtype=np.int16)\n",
    "    return depths\n",
    "\n",
    "\n",
    "def np_change(depths:np.array) -> np.array:\n",
    "    \"\"\"\n",
    "    Returns the difference between an element and the following in an array.  Length is one less than input \n",
    "    \"\"\"\n",
    "    change = depths[1:] - depths[:-1]\n",
    "    return change\n",
    "\n",
    "\n",
    "def np_3_window(depths:np.array) -> np.array:\n",
    "    \"\"\"Static window of three elements.\"\"\"\n",
    "    summed_window = depths[:-2] + depths[1:-1] + depths[2:]\n",
    "    return summed_window\n",
    "\n",
    "\n",
    "def np_window(depths:np.array, window:int) -> np.array:\n",
    "    \"\"\"\n",
    "    Returns a sum of all elements using a window size.\n",
    "    Loops through size of window and sums resulting array slices.  \n",
    "    If selecting a window of 1 it will return the original array.\n",
    "    \n",
    "    Note: needs to copy slice otherwise adds to original array\n",
    "    \"\"\"\n",
    "    # First element up to window length\n",
    "    end_idx = (1-window)   if not window == 1 else None\n",
    "    summed_window = np.copy(depths[:end_idx])\n",
    "    # Add each subsequent elements for the window sum\n",
    "    for i in range(1, window):\n",
    "        start_idx = (0 + i)\n",
    "        end_idx =   (1 + i - window)   if not (i - window == -1) else None\n",
    "        summed_window += depths[start_idx:end_idx]\n",
    "    return summed_window\n",
    "\n",
    "\n",
    "def sum_of_increases(array:np.array) -> int:\n",
    "    \"\"\"Returns the number of positive values in an array\"\"\"\n",
    "    return sum(array > 0)"
   ]
  },
  {
   "cell_type": "code",
   "execution_count": 3,
   "metadata": {},
   "outputs": [
    {
     "name": "stdout",
     "output_type": "stream",
     "text": [
      "Number of increases between readings: 1482\n",
      "Number of increases between rolling 3 element windows: 1518\n"
     ]
    }
   ],
   "source": [
    "# Workflow\n",
    "\n",
    "np_depths = np_input('data/sonar_depths.txt')\n",
    "\n",
    "single_increases = sum_of_increases(np_change(np_depths))\n",
    "\n",
    "window_increases = sum_of_increases(np_change(np_window(np_depths,3)))\n",
    "\n",
    "print(f'Number of increases between readings: {single_increases}')\n",
    "print(f'Number of increases between rolling 3 element windows: {window_increases}')"
   ]
  },
  {
   "cell_type": "code",
   "execution_count": null,
   "metadata": {},
   "outputs": [],
   "source": []
  }
 ],
 "metadata": {
  "kernelspec": {
   "display_name": "Python 3",
   "language": "python",
   "name": "python3"
  },
  "language_info": {
   "codemirror_mode": {
    "name": "ipython",
    "version": 3
   },
   "file_extension": ".py",
   "mimetype": "text/x-python",
   "name": "python",
   "nbconvert_exporter": "python",
   "pygments_lexer": "ipython3",
   "version": "3.8.5"
  }
 },
 "nbformat": 4,
 "nbformat_minor": 4
}
