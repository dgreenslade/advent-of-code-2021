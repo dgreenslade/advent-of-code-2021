{
 "cells": [
  {
   "cell_type": "markdown",
   "metadata": {},
   "source": [
    "# Advent of Code: Day 6"
   ]
  },
  {
   "cell_type": "markdown",
   "metadata": {},
   "source": [
    "### --- Day 6: Lanternfish ---\n",
    "The sea floor is getting steeper. Maybe the sleigh keys got carried this way?\n",
    "\n",
    "A massive school of glowing lanternfish swims past. They must spawn quickly to reach such large numbers - maybe exponentially quickly? You should model their growth rate to be sure.\n",
    "\n",
    "Although you know nothing about this specific species of lanternfish, you make some guesses about their attributes. Surely, each lanternfish creates a new lanternfish once every 7 days.\n",
    "\n",
    "However, this process isn't necessarily synchronized between every lanternfish - one lanternfish might have 2 days left until it creates another lanternfish, while another might have 4. So, you can model each fish as a single number that represents the number of days until it creates a new lanternfish.\n",
    "\n",
    "Furthermore, you reason, a new lanternfish would surely need slightly longer before it's capable of producing more lanternfish: two more days for its first cycle.\n",
    "\n",
    "So, suppose you have a lanternfish with an internal timer value of 3:\n",
    "\n",
    "After one day, its internal timer would become 2.\n",
    "After another day, its internal timer would become 1.\n",
    "After another day, its internal timer would become 0.\n",
    "After another day, its internal timer would reset to 6, and it would create a new lanternfish with an internal timer of 8.\n",
    "After another day, the first lanternfish would have an internal timer of 5, and the second lanternfish would have an internal timer of 7.\n",
    "A lanternfish that creates a new fish resets its timer to 6, not 7 (because 0 is included as a valid timer value). The new lanternfish starts with an internal timer of 8 and does not start counting down until the next day.\n",
    "\n",
    "Realizing what you're trying to do, the submarine automatically produces a list of the ages of several hundred nearby lanternfish (your puzzle input). For example, suppose you were given the following list:\n",
    "\n",
    "3,4,3,1,2\n",
    "This list means that the first fish has an internal timer of 3, the second fish has an internal timer of 4, and so on until the fifth fish, which has an internal timer of 2. Simulating these fish over several days would proceed as follows:\n",
    "\n",
    "Initial state: 3,4,3,1,2\n",
    "After  1 day:  2,3,2,0,1\n",
    "After  2 days: 1,2,1,6,0,8\n",
    "After  3 days: 0,1,0,5,6,7,8\n",
    "After  4 days: 6,0,6,4,5,6,7,8,8\n",
    "After  5 days: 5,6,5,3,4,5,6,7,7,8\n",
    "After  6 days: 4,5,4,2,3,4,5,6,6,7\n",
    "After  7 days: 3,4,3,1,2,3,4,5,5,6\n",
    "After  8 days: 2,3,2,0,1,2,3,4,4,5\n",
    "After  9 days: 1,2,1,6,0,1,2,3,3,4,8\n",
    "After 10 days: 0,1,0,5,6,0,1,2,2,3,7,8\n",
    "After 11 days: 6,0,6,4,5,6,0,1,1,2,6,7,8,8,8\n",
    "After 12 days: 5,6,5,3,4,5,6,0,0,1,5,6,7,7,7,8,8\n",
    "After 13 days: 4,5,4,2,3,4,5,6,6,0,4,5,6,6,6,7,7,8,8\n",
    "After 14 days: 3,4,3,1,2,3,4,5,5,6,3,4,5,5,5,6,6,7,7,8\n",
    "After 15 days: 2,3,2,0,1,2,3,4,4,5,2,3,4,4,4,5,5,6,6,7\n",
    "After 16 days: 1,2,1,6,0,1,2,3,3,4,1,2,3,3,3,4,4,5,5,6,8\n",
    "After 17 days: 0,1,0,5,6,0,1,2,2,3,0,1,2,2,2,3,3,4,4,5,7,8\n",
    "After 18 days: 6,0,6,4,5,6,0,1,1,2,6,0,1,1,1,2,2,3,3,4,6,7,8,8,8,8\n",
    "Each day, a 0 becomes a 6 and adds a new 8 to the end of the list, while each other number decreases by 1 if it was present at the start of the day.\n",
    "\n",
    "In this example, after 18 days, there are a total of 26 fish. After 80 days, there would be a total of 5934.\n",
    "\n",
    "Find a way to simulate lanternfish. How many lanternfish would there be after 80 days?\n",
    "\n",
    "\n",
    "### --- Part Two ---\n",
    "Suppose the lanternfish live forever and have unlimited food and space. Would they take over the entire ocean?\n",
    "\n",
    "After 256 days in the example above, there would be a total of 26984457539 lanternfish!\n",
    "\n",
    "How many lanternfish would there be after 256 days?"
   ]
  },
  {
   "cell_type": "code",
   "execution_count": 86,
   "metadata": {},
   "outputs": [],
   "source": [
    "lanternfish_sample = [3,4,3,1,2]\n",
    "\n",
    "def lanternfish_input(input_file:str) -> list:\n",
    "    data = []\n",
    "    with open(input_file, 'r') as file:\n",
    "        for line in file:\n",
    "            try:\n",
    "                for x in line.split(','):\n",
    "                    data.append(int(x.strip()))\n",
    "            except ValueError as e: \n",
    "                    pass\n",
    "    return data\n",
    "\n",
    "def age_lanternfish(lanternfish:list) -> list:\n",
    "    new_fish_needed = 0\n",
    "    for i, fish in enumerate(lanternfish):\n",
    "        if fish > 0:\n",
    "            lanternfish[i] -= 1\n",
    "        else:\n",
    "            lanternfish[i] = 6\n",
    "            new_fish_needed += 1\n",
    "    for new in range(new_fish_needed):\n",
    "        lanternfish.append(8)\n",
    "    return lanternfish\n",
    "\n",
    "        \n",
    "\n",
    "def age_x_days(lanternfish:list, days:int) -> list:\n",
    "    for x in range(days):\n",
    "        lanternfish = age_lanternfish(lanternfish)\n",
    "    return lanternfish"
   ]
  },
  {
   "cell_type": "code",
   "execution_count": 87,
   "metadata": {},
   "outputs": [
    {
     "name": "stdout",
     "output_type": "stream",
     "text": [
      "The final number of lanternfish = 352872\n"
     ]
    }
   ],
   "source": [
    "# Workflow - Pt 1\n",
    "\n",
    "# NOTE: this is a terrible method.\n",
    "# method uses a single list item to represent one fish, \n",
    "# it's a good example of how exponential growth causes massive memory limitations\n",
    "# and how NOT to store data.\n",
    "\n",
    "lanternfish = lanternfish_input('data/d06_lanternfish.txt')\n",
    "\n",
    "final_fish = age_x_days(lanternfish, 80)\n",
    "\n",
    "print(f'The final number of lanternfish = {len(final_fish)}')"
   ]
  },
  {
   "cell_type": "code",
   "execution_count": 88,
   "metadata": {},
   "outputs": [],
   "source": [
    "# Switching to method with a list indexes representing the ages and items being the counts\n",
    "\n",
    "def lanternfish_dict(lanternfish:list, max_age:int) -> dict:\n",
    "    age_dict = {}\n",
    "    for i in range(max_age):\n",
    "        age_dict[i] = 0\n",
    "    for x in lanternfish:\n",
    "        age_dict[x] += 1\n",
    "    return age_dict\n",
    "\n",
    "def lanternfish_ages(lanternfish:list, max_age:int) -> list:\n",
    "    age_count = [0] * (max_age + 1)\n",
    "    for fish in lanternfish:\n",
    "        age_count[fish] += 1\n",
    "    return age_count\n",
    "\n",
    "def age_lanternfish_counts(lanternfish_counts:list, reprod_age:int, new_age:int) -> list:\n",
    "    reprod_fish = lanternfish_counts[0]\n",
    "    # Decrease index by 1 (reduce time to reproduce)\n",
    "    lanternfish_counts = lanternfish_counts[1:]\n",
    "    # Add new fish and reset reproducing fish\n",
    "    lanternfish_counts.append(reprod_fish)\n",
    "    lanternfish_counts[reprod_age] += reprod_fish\n",
    "    return lanternfish_counts\n",
    "\n",
    "def age_counts_x_days(lanternfish_counts:list, reprod_age:int, new_age:int, days:int) -> list:\n",
    "    for day in range(days):\n",
    "        lanternfish_counts = age_lanternfish_counts(lanternfish_counts, reprod_age, new_age)\n",
    "    return lanternfish_counts\n",
    "\n",
    "def sum_list(lanternfish_counts:list) -> int:\n",
    "    count = 0\n",
    "    for age in lanternfish_counts:\n",
    "        count += age\n",
    "    return count"
   ]
  },
  {
   "cell_type": "code",
   "execution_count": 89,
   "metadata": {},
   "outputs": [
    {
     "name": "stdout",
     "output_type": "stream",
     "text": [
      "The final number of lanternfish = 1604361182149\n"
     ]
    }
   ],
   "source": [
    "# Workflow - Pt 2\n",
    "\n",
    "# Changed to list of counts per age. List never exceeds max_age items.\n",
    "\n",
    "lanternfish = lanternfish_input('data/d06_lanternfish.txt')\n",
    "\n",
    "# Initial lanternfish age counts\n",
    "lanternfish_counts = lanternfish_ages(lanternfish, 8)\n",
    "# After 256 days\n",
    "final_fish_counts = age_counts_x_days(lanternfish_counts, 6, 8, 256)\n",
    "# Final number\n",
    "num_fish = sum_list(final_fish_counts)\n",
    "\n",
    "print(f'The final number of lanternfish = {num_fish}')"
   ]
  }
 ],
 "metadata": {
  "kernelspec": {
   "display_name": "Python 3",
   "language": "python",
   "name": "python3"
  },
  "language_info": {
   "codemirror_mode": {
    "name": "ipython",
    "version": 3
   },
   "file_extension": ".py",
   "mimetype": "text/x-python",
   "name": "python",
   "nbconvert_exporter": "python",
   "pygments_lexer": "ipython3",
   "version": "3.8.5"
  }
 },
 "nbformat": 4,
 "nbformat_minor": 4
}
