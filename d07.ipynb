{
 "cells": [
  {
   "cell_type": "markdown",
   "metadata": {},
   "source": [
    "### --- Day 7: The Treachery of Whales ---\n",
    "A giant whale has decided your submarine is its next meal, and it's much faster than you are. There's nowhere to run!\n",
    "\n",
    "Suddenly, a swarm of crabs (each in its own tiny submarine - it's too deep for them otherwise) zooms in to rescue you! They seem to be preparing to blast a hole in the ocean floor; sensors indicate a massive underground cave system just beyond where they're aiming!\n",
    "\n",
    "The crab submarines all need to be aligned before they'll have enough power to blast a large enough hole for your submarine to get through. However, it doesn't look like they'll be aligned before the whale catches you! Maybe you can help?\n",
    "\n",
    "There's one major catch - crab submarines can only move horizontally.\n",
    "\n",
    "You quickly make a list of the horizontal position of each crab (your puzzle input). Crab submarines have limited fuel, so you need to find a way to make all of their horizontal positions match while requiring them to spend as little fuel as possible.\n",
    "\n",
    "For example, consider the following horizontal positions:\n",
    "\n",
    "    16,1,2,0,4,2,7,1,2,14\n",
    "    \n",
    "This means there's a crab with horizontal position 16, a crab with horizontal position 1, and so on.\n",
    "\n",
    "Each change of 1 step in horizontal position of a single crab costs 1 fuel. You could choose any horizontal position to align them all on, but the one that costs the least fuel is horizontal position 2:\n",
    "\n",
    "Move from 16 to 2: 14 fuel\n",
    "Move from 1 to 2: 1 fuel\n",
    "Move from 2 to 2: 0 fuel\n",
    "Move from 0 to 2: 2 fuel\n",
    "Move from 4 to 2: 2 fuel\n",
    "Move from 2 to 2: 0 fuel\n",
    "Move from 7 to 2: 5 fuel\n",
    "Move from 1 to 2: 1 fuel\n",
    "Move from 2 to 2: 0 fuel\n",
    "Move from 14 to 2: 12 fuel\n",
    "This costs a total of 37 fuel. This is the cheapest possible outcome; more expensive outcomes include aligning at position 1 (41 fuel), position 3 (39 fuel), or position 10 (71 fuel).\n",
    "\n",
    "Determine the horizontal position that the crabs can align to using the least fuel possible. How much fuel must they spend to align to that position?"
   ]
  },
  {
   "cell_type": "code",
   "execution_count": 53,
   "metadata": {},
   "outputs": [],
   "source": [
    "def crab_input(file:str):\n",
    "    with open(file, 'r') as file:\n",
    "        return [int(i) for i in file.readline().strip().split(',')]\n",
    "\n",
    "sample_crabs = [16,1,2,0,4,2,7,1,2,14]"
   ]
  },
  {
   "cell_type": "code",
   "execution_count": 54,
   "metadata": {},
   "outputs": [],
   "source": [
    "import statistics\n",
    "import math\n",
    "\n",
    "def min_fuel_median(crabs:list) -> int:\n",
    "    \"\"\" \n",
    "    The cheapest midpoint must be the median.  \n",
    "    \n",
    "    If we start at 1, then evertime we += 1 to position\n",
    "    we add num_crabs <= 1 to cost and decrease cost by num_crabs > 1.\n",
    "    Therefore you equalise this when num_crabs on both sides of the number.\n",
    "    The median.\n",
    "    \"\"\"\n",
    "    \n",
    "    mid_position = statistics.median(crabs)\n",
    "    fuel = 0\n",
    "    for crab in crabs:\n",
    "        fuel += int(abs(crab - mid_position))\n",
    "    return fuel\n",
    "\n",
    "def min_fuel_mean(crabs:list) -> int:\n",
    "    \"\"\" \n",
    "    The cheapest midpoint with the linear growth in cost - is this the mean??  \n",
    "    Trialled to see whether this works, both rounding up and down.\n",
    "    \n",
    "    Fuel is going to be 1-N bewteen crab and midpoint\n",
    "    so three points away = 3+2+1\n",
    "    there is a forumula for this: n(n+1)/2\n",
    "    \"\"\"\n",
    "    \n",
    "    mid_position = math.floor(statistics.mean(crabs))\n",
    "    fuel = 0\n",
    "    for crab in crabs:\n",
    "        offset = int(abs(crab - mid_position))\n",
    "        cost = offset * (offset + 1) / 2\n",
    "        fuel += cost\n",
    "    return int(fuel)\n",
    "\n"
   ]
  },
  {
   "cell_type": "code",
   "execution_count": 55,
   "metadata": {},
   "outputs": [
    {
     "name": "stdout",
     "output_type": "stream",
     "text": [
      "The fuel used by the crabs in pt1: 342641\n",
      "The fuel used by the crabs in pt2: 93006301\n"
     ]
    }
   ],
   "source": [
    "# Workflow\n",
    "\n",
    "crabs = crab_input('data/d07_crabs.txt')\n",
    "\n",
    "fuel = min_fuel_median(crabs)\n",
    "print(f'The fuel used by the crabs in pt1: {fuel}')\n",
    "\n",
    "fuel = min_fuel_mean(crabs)\n",
    "print(f'The fuel used by the crabs in pt2: {fuel}')"
   ]
  }
 ],
 "metadata": {
  "kernelspec": {
   "display_name": "Python 3",
   "language": "python",
   "name": "python3"
  },
  "language_info": {
   "codemirror_mode": {
    "name": "ipython",
    "version": 3
   },
   "file_extension": ".py",
   "mimetype": "text/x-python",
   "name": "python",
   "nbconvert_exporter": "python",
   "pygments_lexer": "ipython3",
   "version": "3.8.5"
  }
 },
 "nbformat": 4,
 "nbformat_minor": 4
}
