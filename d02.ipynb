{
 "cells": [
  {
   "cell_type": "markdown",
   "metadata": {},
   "source": [
    "# Advent of Code: Day 2"
   ]
  },
  {
   "cell_type": "markdown",
   "metadata": {},
   "source": [
    "### Part 1 - using Pandas"
   ]
  },
  {
   "cell_type": "markdown",
   "metadata": {},
   "source": [
    "--- Day 2: Dive! ---\n",
    "Now, you need to figure out how to pilot this thing.\n",
    "\n",
    "It seems like the submarine can take a series of commands like forward 1, down 2, or up 3:\n",
    "\n",
    "forward X increases the horizontal position by X units.\n",
    "down X increases the depth by X units.\n",
    "up X decreases the depth by X units.\n",
    "Note that since you're on a submarine, down and up affect your depth, and so they have the opposite result of what you might expect.\n",
    "\n",
    "The submarine seems to already have a planned course (your puzzle input). You should probably figure out where it's going. For example:\n",
    "\n",
    "forward 5\n",
    "down 5\n",
    "forward 8\n",
    "up 3\n",
    "down 8\n",
    "forward 2\n",
    "Your horizontal position and depth both start at 0. The steps above would then modify them as follows:\n",
    "\n",
    "forward 5 adds 5 to your horizontal position, a total of 5.\n",
    "down 5 adds 5 to your depth, resulting in a value of 5.\n",
    "forward 8 adds 8 to your horizontal position, a total of 13.\n",
    "up 3 decreases your depth by 3, resulting in a value of 2.\n",
    "down 8 adds 8 to your depth, resulting in a value of 10.\n",
    "forward 2 adds 2 to your horizontal position, a total of 15.\n",
    "After following these instructions, you would have a horizontal position of 15 and a depth of 10. (Multiplying these together produces 150.)\n",
    "\n",
    "Calculate the horizontal position and depth you would have after following the planned course. What do you get if you multiply your final horizontal position by your final depth?"
   ]
  },
  {
   "cell_type": "code",
   "execution_count": 166,
   "metadata": {},
   "outputs": [
    {
     "name": "stdout",
     "output_type": "stream",
     "text": [
      "The final position of the sub is: (2003, 980)\n",
      "The multiplied horizontal and vertical positions: 1962940\n"
     ]
    }
   ],
   "source": [
    "import pandas as pd\n",
    "\n",
    "def move_input(input_file:str) -> pd.DataFrame:\n",
    "    return pd.read_csv(input_file, delimiter=' ', names=['direction','distance'])\n",
    "\n",
    "def parse_pd_moves(movement:pd.DataFrame):\n",
    "    down = moves.loc[moves['direction'] == 'down'].groupby('direction').sum().iloc[0, 0]\n",
    "    up = moves.loc[moves['direction'] == 'up'].groupby('direction').sum().iloc[0, 0]\n",
    "    forward = moves.loc[moves['direction'] == 'forward'].groupby('direction').sum().iloc[0, 0]\n",
    "    return (forward, down - up)\n",
    "\n",
    "def move_sub_total(start:tuple, moves:tuple):\n",
    "    position = (start[0] + moves[0], start[1] + moves[1])\n",
    "    return position\n",
    "\n",
    "# Workflow\n",
    "moves = move_input('data/sub_movement.txt')\n",
    "start_pos = (0,0)\n",
    "movements = parse_pd_moves(moves)\n",
    "final_pos = move_sub(start_pos, movements)\n",
    "multiplied = final_pos[0] * final_pos[1]\n",
    "\n",
    "print(f'The final position of the sub is: {final_pos}')\n",
    "print(f'The multiplied horizontal and vertical positions: {multiplied}')"
   ]
  },
  {
   "cell_type": "markdown",
   "metadata": {},
   "source": [
    "### Part 2 - changing to class object for sub movement"
   ]
  },
  {
   "cell_type": "markdown",
   "metadata": {},
   "source": [
    "--- Part Two ---\n",
    "Based on your calculations, the planned course doesn't seem to make any sense. You find the submarine manual and discover that the process is actually slightly more complicated.\n",
    "\n",
    "In addition to horizontal position and depth, you'll also need to track a third value, aim, which also starts at 0. The commands also mean something entirely different than you first thought:\n",
    "\n",
    "down X increases your aim by X units.\n",
    "up X decreases your aim by X units.\n",
    "forward X does two things:\n",
    "It increases your horizontal position by X units.\n",
    "It increases your depth by your aim multiplied by X.\n",
    "Again note that since you're on a submarine, down and up do the opposite of what you might expect: \"down\" means aiming in the positive direction.\n",
    "\n",
    "Now, the above example does something different:\n",
    "\n",
    "forward 5 adds 5 to your horizontal position, a total of 5. Because your aim is 0, your depth does not change.\n",
    "down 5 adds 5 to your aim, resulting in a value of 5.\n",
    "forward 8 adds 8 to your horizontal position, a total of 13. Because your aim is 5, your depth increases by 8*5=40.\n",
    "up 3 decreases your aim by 3, resulting in a value of 2.\n",
    "down 8 adds 8 to your aim, resulting in a value of 10.\n",
    "forward 2 adds 2 to your horizontal position, a total of 15. Because your aim is 10, your depth increases by 2*10=20 to a total of 60.\n",
    "After following these new instructions, you would have a horizontal position of 15 and a depth of 60. (Multiplying these produces 900.)\n",
    "\n",
    "Using this new interpretation of the commands, calculate the horizontal position and depth you would have after following the planned course. What do you get if you multiply your final horizontal position by your final depth?"
   ]
  },
  {
   "cell_type": "code",
   "execution_count": 167,
   "metadata": {},
   "outputs": [],
   "source": [
    "import pandas as pd\n",
    "\n",
    "def move_input(input_file:str) -> pd.DataFrame:\n",
    "    return pd.read_csv(input_file, delimiter=' ', names=['direction','distance'])\n",
    "\n",
    "class Sub(object):\n",
    "        \n",
    "    def __init__(self, aim=0, horizontal=0, vertical=0):\n",
    "        self.aim = aim\n",
    "        self.horizontal = horizontal\n",
    "        self.vertical = vertical\n",
    "        \n",
    "    def move(self, type:str, distance:int):\n",
    "        if type == 'forward':\n",
    "            self.horizontal = self.horizontal + distance\n",
    "            self.vertical += (self.aim * distance)\n",
    "        if type == 'up':\n",
    "            self.aim -= distance\n",
    "        if type == 'down':\n",
    "            self.aim += distance\n",
    "        \n",
    "    def position(self):\n",
    "        return (self.horizontal, self.vertical)"
   ]
  },
  {
   "cell_type": "code",
   "execution_count": 168,
   "metadata": {},
   "outputs": [
    {
     "name": "stdout",
     "output_type": "stream",
     "text": [
      "The final position of the sub is: (2003, 905474)\n",
      "The multiplied horizontal and vertical positions: 1813664422\n"
     ]
    }
   ],
   "source": [
    "#Workflow\n",
    "\n",
    "sub = Sub()\n",
    "moves = move_input('data/sub_movement.txt')\n",
    "\n",
    "for index, row in moves.iterrows():\n",
    "    sub.move(row['direction'],row['distance'])\n",
    "\n",
    "position = sub.position()\n",
    "\n",
    "print(f'The final position of the sub is: {position}')\n",
    "print(f'The multiplied horizontal and vertical positions: {position[0] * position[1]}')"
   ]
  },
  {
   "cell_type": "code",
   "execution_count": 164,
   "metadata": {},
   "outputs": [
    {
     "name": "stdout",
     "output_type": "stream",
     "text": [
      "(5, 0)\n",
      "(5, 0)\n",
      "(13, 40)\n",
      "(13, 40)\n",
      "(13, 40)\n",
      "(15, 60)\n"
     ]
    }
   ],
   "source": [
    "# Using the test movements to validate answer\n",
    "test_sub = Sub()\n",
    "\n",
    "test_sub.move('forward', 5)\n",
    "print(test_sub.position())\n",
    "\n",
    "test_sub.move('down', 5)\n",
    "print(test_sub.position())\n",
    "\n",
    "test_sub.move('forward', 8)\n",
    "print(test_sub.position())\n",
    "\n",
    "test_sub.move('up', 3)\n",
    "print(test_sub.position())\n",
    "\n",
    "test_sub.move('down', 8)\n",
    "print(test_sub.position())\n",
    "\n",
    "test_sub.move('forward', 2)\n",
    "print(test_sub.position())"
   ]
  },
  {
   "cell_type": "markdown",
   "metadata": {},
   "source": [
    "moves = move_input('data/sub_movement.txt')\n"
   ]
  },
  {
   "cell_type": "code",
   "execution_count": 178,
   "metadata": {},
   "outputs": [
    {
     "data": {
      "text/html": [
       "<div>\n",
       "<style scoped>\n",
       "    .dataframe tbody tr th:only-of-type {\n",
       "        vertical-align: middle;\n",
       "    }\n",
       "\n",
       "    .dataframe tbody tr th {\n",
       "        vertical-align: top;\n",
       "    }\n",
       "\n",
       "    .dataframe thead th {\n",
       "        text-align: right;\n",
       "    }\n",
       "</style>\n",
       "<table border=\"1\" class=\"dataframe\">\n",
       "  <thead>\n",
       "    <tr style=\"text-align: right;\">\n",
       "      <th></th>\n",
       "      <th>direction</th>\n",
       "      <th>distance</th>\n",
       "      <th>horizontal</th>\n",
       "    </tr>\n",
       "  </thead>\n",
       "  <tbody>\n",
       "    <tr>\n",
       "      <th>0</th>\n",
       "      <td>forward</td>\n",
       "      <td>4</td>\n",
       "      <td>4</td>\n",
       "    </tr>\n",
       "    <tr>\n",
       "      <th>1</th>\n",
       "      <td>down</td>\n",
       "      <td>8</td>\n",
       "      <td>0</td>\n",
       "    </tr>\n",
       "    <tr>\n",
       "      <th>2</th>\n",
       "      <td>down</td>\n",
       "      <td>1</td>\n",
       "      <td>0</td>\n",
       "    </tr>\n",
       "    <tr>\n",
       "      <th>3</th>\n",
       "      <td>forward</td>\n",
       "      <td>6</td>\n",
       "      <td>6</td>\n",
       "    </tr>\n",
       "    <tr>\n",
       "      <th>4</th>\n",
       "      <td>forward</td>\n",
       "      <td>7</td>\n",
       "      <td>7</td>\n",
       "    </tr>\n",
       "    <tr>\n",
       "      <th>...</th>\n",
       "      <td>...</td>\n",
       "      <td>...</td>\n",
       "      <td>...</td>\n",
       "    </tr>\n",
       "    <tr>\n",
       "      <th>995</th>\n",
       "      <td>down</td>\n",
       "      <td>1</td>\n",
       "      <td>0</td>\n",
       "    </tr>\n",
       "    <tr>\n",
       "      <th>996</th>\n",
       "      <td>down</td>\n",
       "      <td>5</td>\n",
       "      <td>0</td>\n",
       "    </tr>\n",
       "    <tr>\n",
       "      <th>997</th>\n",
       "      <td>down</td>\n",
       "      <td>5</td>\n",
       "      <td>0</td>\n",
       "    </tr>\n",
       "    <tr>\n",
       "      <th>998</th>\n",
       "      <td>up</td>\n",
       "      <td>4</td>\n",
       "      <td>0</td>\n",
       "    </tr>\n",
       "    <tr>\n",
       "      <th>999</th>\n",
       "      <td>forward</td>\n",
       "      <td>5</td>\n",
       "      <td>5</td>\n",
       "    </tr>\n",
       "  </tbody>\n",
       "</table>\n",
       "<p>1000 rows × 3 columns</p>\n",
       "</div>"
      ],
      "text/plain": [
       "    direction  distance  horizontal\n",
       "0     forward         4           4\n",
       "1        down         8           0\n",
       "2        down         1           0\n",
       "3     forward         6           6\n",
       "4     forward         7           7\n",
       "..        ...       ...         ...\n",
       "995      down         1           0\n",
       "996      down         5           0\n",
       "997      down         5           0\n",
       "998        up         4           0\n",
       "999   forward         5           5\n",
       "\n",
       "[1000 rows x 3 columns]"
      ]
     },
     "execution_count": 178,
     "metadata": {},
     "output_type": "execute_result"
    }
   ],
   "source": [
    "moves['horizontal'] = moves['distance'] * (moves['direction'] == 'forward')\n",
    "moves\n",
    "# moves['direction'] * 2"
   ]
  },
  {
   "cell_type": "code",
   "execution_count": null,
   "metadata": {},
   "outputs": [],
   "source": []
  }
 ],
 "metadata": {
  "kernelspec": {
   "display_name": "Python 3",
   "language": "python",
   "name": "python3"
  },
  "language_info": {
   "codemirror_mode": {
    "name": "ipython",
    "version": 3
   },
   "file_extension": ".py",
   "mimetype": "text/x-python",
   "name": "python",
   "nbconvert_exporter": "python",
   "pygments_lexer": "ipython3",
   "version": "3.8.5"
  }
 },
 "nbformat": 4,
 "nbformat_minor": 4
}
